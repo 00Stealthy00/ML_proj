{
 "cells": [
  {
   "cell_type": "code",
   "execution_count": 2,
   "id": "050bc0f4-ab57-4579-ad2a-71e51e3e91a7",
   "metadata": {},
   "outputs": [],
   "source": [
    "from joblib import dump, load\n",
    "import numpy as np\n",
    "model = load('Real_estate.joblib')"
   ]
  },
  {
   "cell_type": "code",
   "execution_count": 9,
   "id": "aabbdddd-b941-4f77-932e-b532048c2e63",
   "metadata": {},
   "outputs": [
    {
     "data": {
      "text/plain": [
       "array([22.578])"
      ]
     },
     "execution_count": 9,
     "metadata": {},
     "output_type": "execute_result"
    }
   ],
   "source": [
    "features = np.array([[-0.43942006,  3.12628155, -1.12165014, -0.27288841, -1.42262747,\n",
    "       -0.24291109, -1.31238772,  2.61111401, -1.0016859 , -0.5778192 ,\n",
    "       -0.97491834,  0.41164221, -0.86091034]])\n",
    "model.predict(features)"
   ]
  },
  {
   "cell_type": "code",
   "execution_count": null,
   "id": "bf638f49-4a6f-421a-92f5-ec7a3fe254b7",
   "metadata": {},
   "outputs": [],
   "source": []
  }
 ],
 "metadata": {
  "kernelspec": {
   "display_name": "Python 3 (ipykernel)",
   "language": "python",
   "name": "python3"
  },
  "language_info": {
   "codemirror_mode": {
    "name": "ipython",
    "version": 3
   },
   "file_extension": ".py",
   "mimetype": "text/x-python",
   "name": "python",
   "nbconvert_exporter": "python",
   "pygments_lexer": "ipython3",
   "version": "3.11.5"
  }
 },
 "nbformat": 4,
 "nbformat_minor": 5
}
